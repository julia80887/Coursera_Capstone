{
    "cells": [
        {
            "metadata": {
                "collapsed": true
            },
            "cell_type": "markdown",
            "source": "# Data"
        },
        {
            "metadata": {},
            "cell_type": "markdown",
            "source": "To solve this business problem, we will need the following data:"
        },
        {
            "metadata": {},
            "cell_type": "markdown",
            "source": " - List of all the neighborhoods in Toronto since it defines the scope of our project.\n - The exact coordinates of those neighborhoods so that we can plot our data.\n - Venue data which will be used to create clusters."
        },
        {
            "metadata": {},
            "cell_type": "markdown",
            "source": "We can obtain the list of neighborhoods in Toronto through the following site and use web scraping to extract the data through the use of different python packages and tools. \nhttps://en.wikipedia.org/wiki/List_of_postal_codes_of_Canada:_M"
        },
        {
            "metadata": {},
            "cell_type": "markdown",
            "source": "We can then get the latitude and longitude coordinates of each neighborhood from the Python Geocoder tool in the notebook so that we can plot our clusters. "
        },
        {
            "metadata": {},
            "cell_type": "markdown",
            "source": "Lastly, to get the venues of the most popular restaurants in Toronto, we will use the Foursquare API. "
        },
        {
            "metadata": {},
            "cell_type": "code",
            "source": "",
            "execution_count": null,
            "outputs": []
        }
    ],
    "metadata": {
        "kernelspec": {
            "name": "python3",
            "display_name": "Python 3.6",
            "language": "python"
        },
        "language_info": {
            "name": "python",
            "version": "3.6.9",
            "mimetype": "text/x-python",
            "codemirror_mode": {
                "name": "ipython",
                "version": 3
            },
            "pygments_lexer": "ipython3",
            "nbconvert_exporter": "python",
            "file_extension": ".py"
        }
    },
    "nbformat": 4,
    "nbformat_minor": 1
}