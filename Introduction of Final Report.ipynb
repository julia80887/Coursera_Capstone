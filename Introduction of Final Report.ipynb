{
    "cells": [
        {
            "metadata": {
                "collapsed": true
            },
            "cell_type": "markdown",
            "source": "# Introduction"
        },
        {
            "metadata": {},
            "cell_type": "markdown",
            "source": "For many people, going out to restaurants is an enjoyable way to connect with their friends and family, relieve the stress of their home life or simply eat some delicious food.  Different dishes are constantly being invented and cuisines developed, meaning that more and more restaurants continue to open as a way to please the public's taste buds and earn profit. As with any major opening of a public place, picking the location of a new restaraunt requires a lot of things to be taken into account."
        },
        {
            "metadata": {},
            "cell_type": "markdown",
            "source": "For this particular project, I will be working with a hypothetical problem. \nA hopeful business owner would like to open a Korean style restaurant in Toronto, Canada. The objective of this analysis will be to determine the best location for his new eatery. We will need to take into account the density of other restaurants in Toronto, as well as which price level would optimize profit. "
        },
        {
            "metadata": {},
            "cell_type": "markdown",
            "source": "The results of this business project will be mainly beneficial for current or prospective restaurant owners with similar plans for their franchises who would like to determien which areas in Toronto are more likely to bring them and their business success. This analysis can also be useful to people looking to find restaurant dense areas in Toronto, for their own needs. "
        },
        {
            "metadata": {},
            "cell_type": "code",
            "source": "",
            "execution_count": null,
            "outputs": []
        }
    ],
    "metadata": {
        "kernelspec": {
            "name": "python3",
            "display_name": "Python 3.6",
            "language": "python"
        },
        "language_info": {
            "name": "python",
            "version": "3.6.9",
            "mimetype": "text/x-python",
            "codemirror_mode": {
                "name": "ipython",
                "version": 3
            },
            "pygments_lexer": "ipython3",
            "nbconvert_exporter": "python",
            "file_extension": ".py"
        }
    },
    "nbformat": 4,
    "nbformat_minor": 1
}